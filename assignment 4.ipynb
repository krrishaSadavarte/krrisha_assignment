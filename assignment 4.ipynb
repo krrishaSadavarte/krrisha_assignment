{
 "cells": [
  {
   "cell_type": "code",
   "execution_count": null,
   "id": "558f9aea",
   "metadata": {},
   "outputs": [],
   "source": [
    "# [1] What is File function in python? What is keywords to create and write file.\n",
    "\n",
    "# Python file object provides various modes/methods to manipulate files.\n",
    "# like \"read\",\"write\", \"create\", and \"append\".\n",
    "# Keywords to create & write file.\n",
    "# \"x\" - create file\n",
    "# \"w\" - write"
   ]
  },
  {
   "cell_type": "code",
   "execution_count": null,
   "id": "50c1763a",
   "metadata": {},
   "outputs": [],
   "source": [
    "# [2] Write a Python program to read an entire text file.\n",
    "\n",
    "k1= open('krrisha.txt', 'r')\n",
    "k= k1.read() \n",
    "k1.close()"
   ]
  },
  {
   "cell_type": "code",
   "execution_count": null,
   "id": "70a6984b",
   "metadata": {},
   "outputs": [],
   "source": [
    "# [3] Write a Python program to append text to a file and display the text.\n",
    "\n",
    "k1= open('krrisha.txt', 'r')\n",
    "k= k1.read()\n",
    "k1.close()\n",
    "k2= open(r'krrisha.txt', 'a')\n",
    "s= k2.write('joji')\n",
    "k2.close()\n",
    "k3= open(r'krrisha.txt', 'r')\n",
    "a= k3.read()\n",
    "k2.close()"
   ]
  },
  {
   "cell_type": "code",
   "execution_count": null,
   "id": "3554ddcd",
   "metadata": {},
   "outputs": [],
   "source": [
    "# [4] Write a Python program to read first n lines of a file.\n",
    "\n",
    "a= open('krrisha.txt', 'r')\n",
    "b= a.read(17)\n",
    "a.close()\n",
    "print(b)"
   ]
  },
  {
   "cell_type": "code",
   "execution_count": null,
   "id": "7cb3289a",
   "metadata": {},
   "outputs": [],
   "source": [
    "# [5] Write a Python program to read last n lines of a file.\n",
    "\n",
    "a= open('krrisha.txt', 'r')\n",
    "a.seek(8)\n",
    "b= a.read()\n",
    "a.close()\n",
    "print(b)"
   ]
  },
  {
   "cell_type": "code",
   "execution_count": null,
   "id": "9a254e11",
   "metadata": {},
   "outputs": [],
   "source": [
    "# [6] Write a Python program to read a file line by line and store it into a \n",
    "# list.\n",
    "\n",
    "l1=[]\n",
    "a= open('krrisha.txt, 'r')\n",
    "k= a.read()\n",
    "for i in k:\n",
    "    if k not in l1:\n",
    "        l1.append(k)\n",
    "a.close()\n",
    "print(l1)"
   ]
  },
  {
   "cell_type": "code",
   "execution_count": null,
   "id": "896e236c",
   "metadata": {},
   "outputs": [],
   "source": [
    "# [7] Write a Python program to read a file line by line store it into a \n",
    "# variable.\n",
    "\n",
    "a=''\n",
    "b= open('krrisha.txt', 'r')\n",
    "n= b.read()\n",
    "for i in k:\n",
    "    if n not in a:\n",
    "        a+=b\n",
    "b.close()\n",
    "print(a)"
   ]
  },
  {
   "cell_type": "code",
   "execution_count": null,
   "id": "807a5b5a",
   "metadata": {},
   "outputs": [],
   "source": [
    "# [8] Write a python program to find the longest words.\n",
    "\n",
    "s1= open('krrisha.txt', 'r')\n",
    "k= s1.read()\n",
    "longest= max(k.split(), key=len)\n",
    "s1.close()\n",
    "print('Longest words: ',longest)"
   ]
  },
  {
   "cell_type": "code",
   "execution_count": null,
   "id": "80acd2e3",
   "metadata": {},
   "outputs": [],
   "source": [
    "# [9] Write a Python program to count the number of lines in a text file.\n",
    "\n",
    "s1= open('krrisha.txt', 'r')\n",
    "k= s1.read()\n",
    "lines= len(k.splitlines())\n",
    "print('total lines: ',lines)"
   ]
  },
  {
   "cell_type": "code",
   "execution_count": null,
   "id": "0669a745",
   "metadata": {},
   "outputs": [],
   "source": [
    "# [10] Write a Python program to count the frequency of words in a file.\n",
    "\n",
    "a= {}\n",
    "s1= open('krrisha.txt', 'r')\n",
    "k= s1.read()\n",
    "sp= k.split()\n",
    "for i in sp:\n",
    "    if i not in a:\n",
    "        a[i]=1\n",
    "    else:\n",
    "        a[i]+=1\n",
    "print(a)"
   ]
  },
  {
   "cell_type": "code",
   "execution_count": null,
   "id": "5e8c1d48",
   "metadata": {},
   "outputs": [],
   "source": [
    "# [11] Write a Python program to write a list to a file.\n",
    "\n",
    "k= ['happy', 'new', 'year']\n",
    "s1= open('krrisha.txt', 'a')\n",
    "a= s1.write('\\n'.join(k))\n",
    "s1.close()\n",
    "s2= open('krrisha.txt', 'r')\n",
    "b= s2.read()\n",
    "s2.close()\n",
    "print(b)"
   ]
  },
  {
   "cell_type": "code",
   "execution_count": null,
   "id": "a0483ba4",
   "metadata": {},
   "outputs": [],
   "source": [
    "# [12] Write a Python program to copy the contents of a file to another file.\n",
    "\n",
    "s1= open('krrisha.txt', 'r')\n",
    "k= s1.read()\n",
    "s1.close()\n",
    "s2= open('krrisha.txt', 'w')\n",
    "for i in k:\n",
    "    s2.write(i)\n",
    "s2.close()\n",
    "s3= open('krrisha.txt', 'r')\n",
    "b= s3.read()\n",
    "s3.close()\n",
    "print(b)"
   ]
  },
  {
   "cell_type": "code",
   "execution_count": null,
   "id": "b7d183f0",
   "metadata": {},
   "outputs": [],
   "source": [
    "# [13] Explain Exception handling? What is an Error in Python?\n",
    "\n",
    "# Exception is an Python object that represents an Error.\n",
    "# Errors = Exception = Problems\n",
    "# When error raise execution stops."
   ]
  },
  {
   "cell_type": "code",
   "execution_count": null,
   "id": "6a46db42",
   "metadata": {},
   "outputs": [],
   "source": [
    "# [14] How many except statements can a try-except block have? Name Some\n",
    "# built-in exception classes:\n",
    "\n",
    "# There has to be at least one except block.\n",
    "# Some built-in exceptiions:\n",
    "# SyntaxError, ValueError, NameError, IndexError, TypeError, KeyError, \n",
    "# AttributeError, IndentationError, etc..."
   ]
  },
  {
   "cell_type": "code",
   "execution_count": null,
   "id": "cca6087d",
   "metadata": {},
   "outputs": [],
   "source": [
    "# [15] When will the else part of try-except-else be executed?\n",
    "\n",
    "# The else part will be executed \"When No Exception Occurs\"."
   ]
  },
  {
   "cell_type": "code",
   "execution_count": null,
   "id": "69648d82",
   "metadata": {},
   "outputs": [],
   "source": [
    "# [16] Can one block of except statements handle multiple exception?\n",
    "\n",
    "# Yes, a single block of except statements can handle multiple exceptions,\n",
    "# by listing them within parentheses after the except keyword. \n",
    "# This is called a multi-exception catch."
   ]
  },
  {
   "cell_type": "code",
   "execution_count": null,
   "id": "a1c039d3",
   "metadata": {},
   "outputs": [],
   "source": [
    "# [17] When is the finally block executed?\n",
    "\n",
    "# Finally block always executes, when Try block exits.\n",
    "# This ensures that the finally block is executed even if an unexpected \n",
    "# exception occurs."
   ]
  },
  {
   "cell_type": "code",
   "execution_count": null,
   "id": "42e330b5",
   "metadata": {},
   "outputs": [],
   "source": [
    "# [18] What happens when \"1\"== 1 is executed?\n",
    "\n",
    "# It returns False. Because both the operands are of different types."
   ]
  },
  {
   "cell_type": "code",
   "execution_count": null,
   "id": "b8dc3ac0",
   "metadata": {},
   "outputs": [],
   "source": [
    "# [19] How Do You Handle Exceptions With Try/Except/Finally In Python? \n",
    "# Explain with coding snippets.\n",
    "\n",
    "try:\n",
    "    a=int(input('Enter an integer: '))\n",
    "    print(10+a)\n",
    "except:\n",
    "    print('except block of code')\n",
    "finally:\n",
    "    print('finally block of code')\n",
    "# try block of code will execute when there is no error .\n",
    "# except blck of code will execute when there is error in try's boc.\n",
    "# finally will execute everytime after try or except boc ."
   ]
  },
  {
   "cell_type": "code",
   "execution_count": null,
   "id": "36d0f350",
   "metadata": {},
   "outputs": [],
   "source": [
    "# [20] Write python program that user to enter only odd numbers, else will\n",
    "# raise an exception.\n",
    "\n",
    "class ValueError(Exception):\n",
    "    pass\n",
    "for i in range(3):\n",
    "    n= int(input('Enter the Odd number: '))\n",
    "    if n%2==0:\n",
    "        raise ValueError('Please enter the odd number')\n",
    "    else:\n",
    "        print('done!!')"
   ]
  },
  {
   "cell_type": "code",
   "execution_count": null,
   "id": "3a4e7a8f",
   "metadata": {},
   "outputs": [],
   "source": [
    "# [21] What are oops concepts? Is multiple inheritance supported in java.\n",
    "\n",
    "# - OOPs(Object Oriented Programming) is a programming concept that works on\n",
    "# the principles of \n",
    "#   abstraction, encapsulation, inheritance, and polymorphism.\n",
    "# - It allows users to create objects they want and create methods to handle\n",
    "# those objects.\n",
    "# - Multiple Inheritence does not support in Java.\n"
   ]
  },
  {
   "cell_type": "code",
   "execution_count": null,
   "id": "03306e18",
   "metadata": {},
   "outputs": [],
   "source": [
    "# [22] How to Define a Class in Python? What Is Self? Give An Example Of A\n",
    "# Python Class\n",
    "# self goes as a object while making object of a class.\n",
    "# Syntax: \n",
    "class A:\n",
    "    def __init__(self):\n",
    "        print(\"Hello\")\n",
    "    def fun_name(self):\n",
    "        print('have a good day!!!')\n",
    "a=A()\n",
    "a.fun_name()"
   ]
  },
  {
   "cell_type": "code",
   "execution_count": 1,
   "id": "7eb76402",
   "metadata": {},
   "outputs": [
    {
     "name": "stdout",
     "output_type": "stream",
     "text": [
      "45\n"
     ]
    }
   ],
   "source": [
    "# [23] Write a Python class named Rectangle constructed by a length and \n",
    "# width and a method which will compute the area of a rectangle\n",
    "\n",
    "class Rectangle:\n",
    "    def __init__(self, length, width):\n",
    "        self.length = length\n",
    "        self.width = width\n",
    "    def result(self):\n",
    "        return self.length*self.width\n",
    "r1=Rectangle(15, 10)\n",
    "print(r1.result())\n"
   ]
  },
  {
   "cell_type": "code",
   "execution_count": null,
   "id": "f22cd9b8",
   "metadata": {},
   "outputs": [],
   "source": [
    "# [25] Write a Python class named Circle constructed by a radius and two \n",
    "# methods which will compute the area and the perimeter of a circle\n",
    "\n",
    "class Circle:\n",
    "    def __init__(self, radius):\n",
    "        self.radius = radius\n",
    "    def area(self):\n",
    "        return self.radius**4*3.14\n",
    "    def perimeter(self):\n",
    "        return 6*self.radius*3.14\n",
    "a= Circle(6)\n",
    "\n",
    "print(a.area())\n",
    "print(a.perimeter())"
   ]
  },
  {
   "cell_type": "code",
   "execution_count": null,
   "id": "27097e2b",
   "metadata": {},
   "outputs": [],
   "source": [
    "# [26] Explain Inheritance in Python with an example? What is init? Or What \n",
    "# Is A Constructor In Python?\n",
    "\n",
    "# Inheritance relationship defines the classes that inherit from other classes\n",
    "# as derived, subclass, or sub-type classes.\n",
    "# Base class remains to be the source from which a subclass inherits.\n",
    "# For example, you have a Base class of “Animal,” and a “Lion” is a Derived\n",
    "# class. The inheritance will be Lion is an Animal.\n",
    "\n",
    "# A constructor is a special method in a class used to create and initialize\n",
    "# an object of a class.\n"
   ]
  },
  {
   "cell_type": "code",
   "execution_count": null,
   "id": "819f1c7b",
   "metadata": {},
   "outputs": [],
   "source": [
    "# [27] What is Instantiation in terms of OOP terminology?\n",
    "\n",
    "# The processes of creating a new object for a class using a new keyword.\n",
    "# In Python, everything is an instance or an object. \n",
    "# Class constructors, which are like blueprints, allow software engineers to\n",
    "# create and initialize objects of a given class. \n",
    "# This instantiation process follows the steps of instance creation and \n",
    "# instance initialization and makes those objects ready to use."
   ]
  },
  {
   "cell_type": "code",
   "execution_count": null,
   "id": "fa940bc9",
   "metadata": {},
   "outputs": [],
   "source": [
    "# [28] What is used to check whether an object o is an instance of class A?\n",
    "\n",
    "# isinstance() function returns True if the object is of class\n",
    "# A or False if not."
   ]
  },
  {
   "cell_type": "code",
   "execution_count": null,
   "id": "681a8b28",
   "metadata": {},
   "outputs": [],
   "source": []
  },
  {
   "cell_type": "code",
   "execution_count": null,
   "id": "4d8a8278",
   "metadata": {},
   "outputs": [],
   "source": []
  }
 ],
 "metadata": {
  "kernelspec": {
   "display_name": "Python 3 (ipykernel)",
   "language": "python",
   "name": "python3"
  },
  "language_info": {
   "codemirror_mode": {
    "name": "ipython",
    "version": 3
   },
   "file_extension": ".py",
   "mimetype": "text/x-python",
   "name": "python",
   "nbconvert_exporter": "python",
   "pygments_lexer": "ipython3",
   "version": "3.9.13"
  }
 },
 "nbformat": 4,
 "nbformat_minor": 5
}
