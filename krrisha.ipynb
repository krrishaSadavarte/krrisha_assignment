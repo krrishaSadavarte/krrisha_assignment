{
 "cells": [
  {
   "cell_type": "code",
   "execution_count": null,
   "id": "af424909",
   "metadata": {},
   "outputs": [],
   "source": []
  },
  {
   "cell_type": "code",
   "execution_count": null,
   "id": "0144c1a0",
   "metadata": {},
   "outputs": [],
   "source": [
    "                 \"\" MODULE 2\""
   ]
  },
  {
   "cell_type": "code",
   "execution_count": null,
   "id": "cf39ddff",
   "metadata": {},
   "outputs": [],
   "source": [
    "# 1. WAP whether the number is positive negetive or zero.\n",
    "user=int(input('enter the value :'))\n",
    "if user==0:\n",
    "    print('This number is zero!')\n",
    "if user>0:\n",
    "    print(\"This number is positive!\")\n",
    "if user<0:\n",
    "    print(\"This number is negetive!\")"
   ]
  },
  {
   "cell_type": "code",
   "execution_count": null,
   "id": "ccedcd11",
   "metadata": {},
   "outputs": [],
   "source": [
    "# 2. wap to find the factorial number of given number.\n",
    "user=int(input(\"enter the value:\"))\n",
    "fact=1\n",
    "for i in range(1,user+1):\n",
    "    fact=fact*i\n",
    "print(fact)"
   ]
  },
  {
   "cell_type": "code",
   "execution_count": 4,
   "id": "563addb2",
   "metadata": {},
   "outputs": [
    {
     "name": "stdout",
     "output_type": "stream",
     "text": [
      "1 +3 +6 +10 +"
     ]
    }
   ],
   "source": [
    "# febonacci series.\n",
    "sum=0\n",
    "for i in range(1,5):\n",
    "    sum=sum+i\n",
    "    print(sum ,\"+\",end='')"
   ]
  },
  {
   "cell_type": "code",
   "execution_count": null,
   "id": "0e03e258",
   "metadata": {},
   "outputs": [],
   "source": [
    "# wap to swap using temp\n",
    "a=int(input(\"enter the value:\"))\n",
    "b=int(input(\"enter the value: \"))\n",
    "temp=a\n",
    "a=b\n",
    "b=temp\n",
    "print(\"a=\",a)\n",
    "print(\"b=\",b)"
   ]
  },
  {
   "cell_type": "code",
   "execution_count": null,
   "id": "8c0aa632",
   "metadata": {},
   "outputs": [],
   "source": [
    "# What is the purpose continue statement in python?\n",
    "the purpose of continue statement in python is to stop the current iteation and start the loop again."
   ]
  },
  {
   "cell_type": "code",
   "execution_count": null,
   "id": "1e96606a",
   "metadata": {},
   "outputs": [],
   "source": [
    "#Write a Python program that will return true ifthe two given integervalues\n",
    "\n",
    "a=5\n",
    "b=6\n",
    "if a+b==5 or a-b==5 or a==b :\n",
    "    print(\"true\")\n",
    "else :\n",
    "    print(\"faalse\")"
   ]
  },
  {
   "cell_type": "code",
   "execution_count": null,
   "id": "4ce389ad",
   "metadata": {},
   "outputs": [],
   "source": [
    "# Write a Python program to sum of three given integers.However, if two\n",
    "#values are equal sum will be zero.\n",
    "a=8\n",
    "b=9\n",
    "c=8\n",
    "if a==b==c:\n",
    "    print(\"0\")"
   ]
  },
  {
   "cell_type": "code",
   "execution_count": null,
   "id": "982e0eaa",
   "metadata": {},
   "outputs": [],
   "source": [
    "#wap even or odd\n",
    "a=int(input(\"enter the value:\"))\n",
    "if a%2==0:\n",
    "    print(\"this is even \")\n",
    "else :\n",
    "    print(\"this is odd\")"
   ]
  },
  {
   "cell_type": "code",
   "execution_count": null,
   "id": "8ff2f579",
   "metadata": {},
   "outputs": [],
   "source": [
    "#wap vowel or not\n",
    "user=input(\"enter an alphabet\")\n",
    "if user=='a'or'e'or'i'or'o'or'u':\n",
    "    print(\"this alphabet is a vowel\")\n",
    "else:\n",
    "    print(\"this is a consonent\")"
   ]
  },
  {
   "cell_type": "code",
   "execution_count": null,
   "id": "7409ddaf",
   "metadata": {},
   "outputs": [],
   "source": [
    "#wap to sum of 5 n positive number.\n",
    "n=int(input(\"enter a positive number:\"))\n",
    "ans = 0\n",
    "for var1 in range(1,n):\n",
    "    ans += var1\n",
    "print(ans)"
   ]
  },
  {
   "cell_type": "code",
   "execution_count": null,
   "id": "804212cf",
   "metadata": {},
   "outputs": [],
   "source": [
    "#calculate the length of strings.\n",
    "str=\"krrisha\"\n",
    "str1=len(str)\n",
    "print(str1)"
   ]
  },
  {
   "cell_type": "code",
   "execution_count": null,
   "id": "2f30775d",
   "metadata": {},
   "outputs": [],
   "source": [
    "# Write a Python program to count the number of characters (character frequency) in a string\n",
    "\n",
    "str=\"hnueiwhfehjklskwkwkwkwkw\"\n",
    "str1=str.count(\"kw\")\n",
    "print(str1)"
   ]
  },
  {
   "cell_type": "code",
   "execution_count": null,
   "id": "9e417816",
   "metadata": {},
   "outputs": [],
   "source": [
    "# What are negative indexes and why are they used?\n",
    "--> negative index returs the index value from right side,\n",
    "    it always starts from -1,-2,-3...&so on,\n",
    "    it is used in case of long string."
   ]
  },
  {
   "cell_type": "code",
   "execution_count": null,
   "id": "ca88273a",
   "metadata": {},
   "outputs": [],
   "source": [
    " #Write a Python program to count the occurrences of each word in a given sentences\n",
    "\n",
    "\n",
    "str=input(\"enter the string:\")\n",
    "count=0\n",
    "for i in str:\n",
    "    if i.isspace:\n",
    "        total_count=count\n",
    "        print(total_count)\n",
    "        count=0\n",
    "        continue\n",
    "    else:\n",
    "        print(total_count)\n",
    "        count+="
   ]
  },
  {
   "cell_type": "code",
   "execution_count": null,
   "id": "49b77db2",
   "metadata": {},
   "outputs": [],
   "source": [
    "# Write a Python program to get a single string from two given strings,\n",
    "#separated by a space and swap the first two characters of each string.\n",
    "str=\"krrisha sadavarte\"\n",
    "str1=str[0:2]\n",
    "str2=str[10:]\n",
    "str3=str[8:10]\n",
    "str4=str[2:7]\n",
    "res=str1+str2\n",
    "res1=str3+str4\n",
    "print(res)\n",
    "print(res1)"
   ]
  },
  {
   "cell_type": "code",
   "execution_count": null,
   "id": "bce08d8a",
   "metadata": {},
   "outputs": [],
   "source": [
    "# Write a Python program to add 'ing' at the end of a given string (length\n",
    "#should be at least 3). If the given string already ends with 'ing' then add 'ly'\n",
    "#insteadif the string length of the given string is less than 3, leave it unchanged\n",
    "str=input(\"enter the string:\")\n",
    "if str.endswith(\"ing\"):\n",
    "        strr=str.replace(\"ing\",\"ily\")\n",
    "        print(strr)\n",
    "else:\n",
    "        if str.count(str)<3:\n",
    "            print(str)\n",
    "        else:\n",
    "            str_join=str.join([\"ing\"])\n",
    "            print(str+str_join)"
   ]
  },
  {
   "cell_type": "code",
   "execution_count": null,
   "id": "e54eeab1",
   "metadata": {},
   "outputs": [],
   "source": [
    "# Write a Python function to reverses a string if its length is a multiple of 4.\n",
    "str=input(\"enter a string:\")\n",
    "str1=len(str)\n",
    "print(str1)\n",
    "if str1%4==0:\n",
    "    reverse_string=str[::-1]\n",
    "\n",
    "    print(reverse_string)"
   ]
  },
  {
   "cell_type": "code",
   "execution_count": null,
   "id": "231b7b60",
   "metadata": {},
   "outputs": [],
   "source": [
    "#Write a Python program to get a string made of the first 2 and the last 2\n",
    "#chars from a given a string. Ifthe string length islessthan 2,return instead\n",
    "#of the empty string.\n",
    "str=input(\"enter the string\")\n",
    "if len(str)<2:\n",
    "    print(\"empty string\")\n",
    "else:\n",
    "    res=str[0:2]+str[-2:]\n",
    "    print(res)\n"
   ]
  },
  {
   "cell_type": "code",
   "execution_count": null,
   "id": "c8bf34f0",
   "metadata": {},
   "outputs": [],
   "source": [
    "#Write a Python function to insert a string in the middle of a string.\n",
    "str=\"this is your OTP {} \\n thank you so much..\"\n",
    "str1=str.format(\"4265\")\n",
    "print(str1)"
   ]
  },
  {
   "cell_type": "code",
   "execution_count": null,
   "id": "16d0445d",
   "metadata": {},
   "outputs": [],
   "source": [
    "# Write a Python program to count the occurrences of each word in a given sentence.\n",
    "\n",
    "str=input(\"enter the string:\")\n",
    "count=0\n",
    "for i in str:\n",
    "    if i.isspace:\n",
    "        total_count=count\n",
    "        print(total_count)\n",
    "        count=0\n",
    "        continue\n",
    "    else:\n",
    "        print(total_count)\n",
    "        count+=1"
   ]
  },
  {
   "cell_type": "code",
   "execution_count": 1,
   "id": "99464b74",
   "metadata": {},
   "outputs": [
    {
     "name": "stdout",
     "output_type": "stream",
     "text": [
      "enter the string:this is not goodd for you\n",
      "this is not goodd for you\n"
     ]
    }
   ],
   "source": [
    "#Write a Python program to find the first appearance of the substring 'not'\n",
    "#and 'poor' froma given string, if 'not' follows the 'poor', replace the whole\n",
    "#'not'...'poor'substring with 'good'. Return the resulting string\n",
    "str1=input(\"enter the string:\")\n",
    "a=str1.find(\"poor\")\n",
    "b=str1.find(\"not\")\n",
    "if a>b and b>0 and a>0:\n",
    "    str1=str.replace(str1[b:(a+4)],\"good\")\n",
    "    print(str1)\n",
    "else:\n",
    "    print(str1)"
   ]
  },
  {
   "cell_type": "code",
   "execution_count": null,
   "id": "56c62ca9",
   "metadata": {},
   "outputs": [],
   "source": []
  }
 ],
 "metadata": {
  "kernelspec": {
   "display_name": "Python 3 (ipykernel)",
   "language": "python",
   "name": "python3"
  },
  "language_info": {
   "codemirror_mode": {
    "name": "ipython",
    "version": 3
   },
   "file_extension": ".py",
   "mimetype": "text/x-python",
   "name": "python",
   "nbconvert_exporter": "python",
   "pygments_lexer": "ipython3",
   "version": "3.9.12"
  }
 },
 "nbformat": 4,
 "nbformat_minor": 5
}
