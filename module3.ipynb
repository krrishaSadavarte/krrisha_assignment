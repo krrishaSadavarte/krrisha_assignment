{
 "cells": [
  {
   "cell_type": "code",
   "execution_count": null,
   "id": "37629534",
   "metadata": {},
   "outputs": [],
   "source": [
    "#1 What is List? How will you reverse a list?\n",
    "-->list is indexed,orderd,and imutable,we can reverse a string using with a method \n",
    "rev().\n"
   ]
  },
  {
   "cell_type": "code",
   "execution_count": null,
   "id": "3ee2cc65",
   "metadata": {},
   "outputs": [],
   "source": [
    "# How will you remove last object from a list?\n",
    "-->we can remove last object from list using pop()method.\n"
   ]
  },
  {
   "cell_type": "code",
   "execution_count": null,
   "id": "b60933a3",
   "metadata": {},
   "outputs": [],
   "source": [
    "# Suppose list1 is [2, 33, 222, 14, and 25], what is list1 [-1]?\n",
    "--> 25 "
   ]
  },
  {
   "cell_type": "code",
   "execution_count": null,
   "id": "43f41233",
   "metadata": {},
   "outputs": [],
   "source": [
    "# Differentiate between append () and extend () methods?\n",
    "--> append and extend both methods will start adding the element from last.\n",
    "but append will add the given value as single element whereas extend will add \n",
    "the data of the element one by one."
   ]
  },
  {
   "cell_type": "code",
   "execution_count": 1,
   "id": "5e6fb13c",
   "metadata": {},
   "outputs": [
    {
     "name": "stdout",
     "output_type": "stream",
     "text": [
      "1 smallest number\n",
      "89 largest number\n",
      "110 sum\n"
     ]
    }
   ],
   "source": [
    "#Write a Python function to get the largest number,smallest num and sum \n",
    "#of all from a list.\n",
    "l1=[1,2,4,6,89,8]\n",
    "add=0\n",
    "sorted_data=l1.sort()\n",
    "print(l1[0],\"smallest number\")\n",
    "print(l1[-1],\"largest number\")\n",
    "for i in l1:\n",
    "    add+=i\n",
    "print(add,\"sum\")"
   ]
  },
  {
   "cell_type": "code",
   "execution_count": null,
   "id": "4ab315ce",
   "metadata": {},
   "outputs": [],
   "source": [
    "# How will you compare two lists?\n",
    "--> we can compare the list from its length."
   ]
  },
  {
   "cell_type": "code",
   "execution_count": null,
   "id": "9821d959",
   "metadata": {},
   "outputs": [],
   "source": [
    "# Write a Python program to count the number of strings where the string \n",
    "#length is 2 or more and the first and last character are same from a given \n",
    "#list of strings.\n",
    "st=[\"kik\",\"orro\",\"mike\"]\n",
    "count=0\n",
    "for i in st:\n",
    "    if i[0]==i[-1] and len(i)>=2:\n",
    "        count+=1\n",
    "print(count)"
   ]
  },
  {
   "cell_type": "code",
   "execution_count": null,
   "id": "0991b4a6",
   "metadata": {
    "scrolled": true
   },
   "outputs": [],
   "source": [
    "# Write a Python program to remove duplicates from a list.\n",
    "l1=[1,2,6,9,5,6,5,2]\n",
    "final_list=[]\n",
    "for i in l1:\n",
    "    if i  not in final_list:\n",
    "        final_list.append(i)\n",
    "    else:\n",
    "        pass\n",
    "print(final_list)\n",
    "    "
   ]
  },
  {
   "cell_type": "code",
   "execution_count": null,
   "id": "afc682c3",
   "metadata": {},
   "outputs": [],
   "source": [
    "#Write a Python program to check a list is empty or not.\n",
    "l1=[]\n",
    "if len(l1)==0:\n",
    "    print(\"this list is empty\")\n",
    "else:\n",
    "    print(\"this list is no empty\")"
   ]
  },
  {
   "cell_type": "code",
   "execution_count": null,
   "id": "f2b1eeda",
   "metadata": {},
   "outputs": [],
   "source": [
    "#Write a Python function that takes two lists and returns true if they have \n",
    "#at least one common member.\n",
    "l1=[1,1,2,4,3,4]\n",
    "l2=[7,9,5]\n",
    "count=0\n",
    "for i in l1:\n",
    "    for j in l2:\n",
    "        if i==j:\n",
    "            count+=1\n",
    "if count>1:\n",
    "    print(\"true\")\n",
    "else:\n",
    "    print(\"false\")"
   ]
  },
  {
   "cell_type": "code",
   "execution_count": null,
   "id": "2cda59dc",
   "metadata": {},
   "outputs": [],
   "source": [
    "# Write a Python program to generate and print a list of first and last 5 \n",
    "# elements where the values are square of numbers between 1 and 30.\n",
    "user=[1,2,3,4,5,6,7,8,9,12,34,16,17]\n",
    "res=[]\n",
    "for i in user:\n",
    "    a=int(i)\n",
    "    b=a*a\n",
    "    if b>=1 and b<=30:\n",
    "          print(a,\"value\",b,\"square\",sep=\"  \")"
   ]
  },
  {
   "cell_type": "code",
   "execution_count": null,
   "id": "10158471",
   "metadata": {},
   "outputs": [],
   "source": [
    "# Write a Python program to convert a list of characters into a string.\n",
    "l1=[1,1,4,7,3,7,9]\n",
    "str(l1)\n",
    "print(l1)"
   ]
  },
  {
   "cell_type": "code",
   "execution_count": null,
   "id": "7233798f",
   "metadata": {},
   "outputs": [],
   "source": [
    "# Write a Python program to select an item randomly from a list.\n",
    "i=int(input())\n",
    "l1=[1,6,8,32,7,891,5,4,1,4]\n",
    "print(l1[i])\n"
   ]
  },
  {
   "cell_type": "code",
   "execution_count": null,
   "id": "671e6f9c",
   "metadata": {},
   "outputs": [],
   "source": [
    "# Write a Python program to find the second smallest number in a list.\n",
    "l1=[12,25,7,83,9,3,1,6]\n",
    "l1.sort()\n",
    "print(l1)\n",
    "print(l1[1],\"second smallest number\")"
   ]
  },
  {
   "cell_type": "code",
   "execution_count": null,
   "id": "333de21d",
   "metadata": {},
   "outputs": [],
   "source": [
    "# Write a Python program to get unique values from a list\n",
    "l1=[1,1,2,4,2,6,8]\n",
    "for i in l1:\n",
    "    a=l1.count(i)\n",
    "    if a==1:\n",
    "         print(\"unique values\",i)"
   ]
  },
  {
   "cell_type": "code",
   "execution_count": null,
   "id": "273329ee",
   "metadata": {},
   "outputs": [],
   "source": [
    "#Write a Python program to check whether a list contains a sub list.\n",
    "l1=[1,2,[1,3,5],1,4,6]\n",
    "count=0\n",
    "for i in l1:\n",
    "    if type(i)==list:\n",
    "        count+=1\n",
    "if count>=1:\n",
    "    print(\"true\")\n",
    "else:\n",
    "    print(\"false\")\n",
    "       \n",
    "    "
   ]
  },
  {
   "cell_type": "code",
   "execution_count": null,
   "id": "f758ac51",
   "metadata": {},
   "outputs": [],
   "source": [
    "# Write a Python program to split a list into different variables.\n",
    "l1,l2,l3=[1,3,5]\n",
    "print(l2)"
   ]
  },
  {
   "cell_type": "code",
   "execution_count": null,
   "id": "9dc5632e",
   "metadata": {},
   "outputs": [],
   "source": [
    "# What is tuple? Difference between list and tuple.\n",
    "--> tuple is one of the collection data type "
   ]
  },
  {
   "cell_type": "code",
   "execution_count": null,
   "id": "ab1c5352",
   "metadata": {},
   "outputs": [],
   "source": [
    "# Write a Python program to create a tuple with different data types.\n",
    "t1=(1,\"kia\",(1,3,2),{1,3,4},{'a':12,'b':44},1.45,True)\n",
    "print(t1)"
   ]
  },
  {
   "cell_type": "code",
   "execution_count": null,
   "id": "79689b28",
   "metadata": {},
   "outputs": [],
   "source": [
    "# Write a Python program to check whether an element exists within a tuple.\n",
    "t1=(1,3,0,56,6,4,2,4,43)\n",
    "i=int(input())\n",
    "if i in t1:\n",
    "    print(\"yes\")\n",
    "else:\n",
    "    print(\"no\")\n"
   ]
  },
  {
   "cell_type": "code",
   "execution_count": null,
   "id": "9066ef8b",
   "metadata": {},
   "outputs": [],
   "source": [
    "# Write a Python program to find the length of a tuple.\n",
    "l1=tuple(input())\n",
    "print(l1)\n",
    "a=len(l1)\n",
    "print(\"length\",a)"
   ]
  },
  {
   "cell_type": "code",
   "execution_count": null,
   "id": "b9e063f5",
   "metadata": {},
   "outputs": [],
   "source": [
    "#Write a Python program to convert a list to a tuple.\n",
    "l1=[1,2,4,2,4]\n",
    "print(tuple(l1))"
   ]
  },
  {
   "cell_type": "code",
   "execution_count": null,
   "id": "1766a28f",
   "metadata": {},
   "outputs": [],
   "source": [
    "# Write a Python program to reverse a tuple.\n",
    "t1=tuple(input())\n",
    "l1=list(t1)\n",
    "l1.reverse()\n",
    "a=tuple(l1)\n",
    "print(a)"
   ]
  },
  {
   "cell_type": "code",
   "execution_count": 20,
   "id": "a99d5ea6",
   "metadata": {},
   "outputs": [
    {
     "name": "stdout",
     "output_type": "stream",
     "text": [
      "[('1', '3', 'python'), ('5', '1', 'python')]\n"
     ]
    }
   ],
   "source": [
    "#Write a Python program to replace last value of tuples in a list.\n",
    "l1=[('1','3','5'),('5','1','6')]\n",
    "final_list=[]\n",
    "for i in l1:\n",
    "    b=list(i)\n",
    "    a=b[-1]\n",
    "    b.remove(a)\n",
    "    b.append(\"python\")\n",
    "    c=tuple(b)\n",
    "    final_list+=[(c)]\n",
    "print(final_list)"
   ]
  },
  {
   "cell_type": "code",
   "execution_count": null,
   "id": "eec46334",
   "metadata": {},
   "outputs": [],
   "source": [
    "#Write a Python program to create a tuple with different data types.\n",
    "tuple1=(1,1,3.4,\"loyal\",(1,3,2),[1,4,2],True,{14,1,4},{'a':\"apple\",'b':'ball'})\n",
    "print(tuple1)"
   ]
  },
  {
   "cell_type": "code",
   "execution_count": null,
   "id": "6192e471",
   "metadata": {},
   "outputs": [],
   "source": [
    "# Write a Python program to create a tuple with numbers.\n",
    "t1=tuple(input())\n",
    "l1=[]\n",
    "for i in t1:\n",
    "    l1.append(int(i))\n",
    "print(tuple(l1))"
   ]
  },
  {
   "cell_type": "code",
   "execution_count": null,
   "id": "83ee281f",
   "metadata": {},
   "outputs": [],
   "source": [
    "# Write a Python program to convert a tuple to a string.\n",
    "t1=tuple(input())\n",
    "print(t1)"
   ]
  },
  {
   "cell_type": "code",
   "execution_count": null,
   "id": "2bf9f062",
   "metadata": {},
   "outputs": [],
   "source": [
    "# Write a Python program to check whether an element exists within a tuple.\n",
    "tuple1=tuple(input())\n",
    "i=input()\n",
    "if tuple1.count(i)>=1:\n",
    "    print(\"this number exist in the tuple\")\n",
    "else:\n",
    "    print(\"this number does not exist in this tuple\")\n",
    "        "
   ]
  },
  {
   "cell_type": "code",
   "execution_count": null,
   "id": "16e4b236",
   "metadata": {},
   "outputs": [],
   "source": [
    "#Write a Python program to find the length of a tuple.\n",
    "tuple1=tuple((input()))\n",
    "a=len(tuple1)\n",
    "print(\"length of the tuple\",a)"
   ]
  },
  {
   "cell_type": "code",
   "execution_count": null,
   "id": "451a1afa",
   "metadata": {},
   "outputs": [],
   "source": [
    "# Write a Python program to convert a list to a tuple.\n",
    "l1=list(input())\n",
    "a=tuple(l1)\n",
    "print(a)"
   ]
  },
  {
   "cell_type": "code",
   "execution_count": null,
   "id": "847e9222",
   "metadata": {},
   "outputs": [],
   "source": [
    "#Write a Python program to reverse a tuple.\n",
    "a=(1,3,6,8,43,1)\n",
    "c=list(a)\n",
    "c.reverse()\n",
    "print(c)"
   ]
  },
  {
   "cell_type": "code",
   "execution_count": null,
   "id": "75108bb5",
   "metadata": {},
   "outputs": [],
   "source": [
    "# Write a Python program to replace last value of tuples in a list.\n",
    "l1=tuple(input())\n",
    "list_ss=[]\n",
    "for i in l1:\n",
    "    if i is l1[-1]:\n",
    "        if i in list_ss:\n",
    "            list_ss.append(list(i))\n",
    "        else:\n",
    "            list_ss.append(i)\n",
    "    else:\n",
    "        list_ss.append(i)\n",
    "print(tuple(list_ss))"
   ]
  },
  {
   "cell_type": "code",
   "execution_count": null,
   "id": "1d710b85",
   "metadata": {},
   "outputs": [],
   "source": [
    "#Write a Python program to find the repeated items of a tuple.\n",
    "t1=(4,68,3,6,6,3,2,4,4)\n",
    "count=0\n",
    "list(t1)\n",
    "list_sort=[]\n",
    "for i in t1:\n",
    "    t1.count(i)\n",
    "    count+=1\n",
    "    if count>2:\n",
    "        if i not in list_sort:\n",
    "            list_sort.append(i)\n",
    "        else:\n",
    "            pass\n",
    "    else:\n",
    "        pass\n",
    "print(tuple(list_sort))"
   ]
  },
  {
   "cell_type": "code",
   "execution_count": null,
   "id": "7d62c209",
   "metadata": {},
   "outputs": [],
   "source": [
    "# Write a Python program to remove an empty tuple(s) from a list of tuples.\n",
    "t1=[(1,1,31),(1,23,24),(),(1,2,5)]\n",
    "list_ss=list(map(list,t1))\n",
    "for i in list_ss:\n",
    "    if i == []:\n",
    "        list_ss.remove(i)\n",
    "k=list(map(tuple,list_ss))\n",
    "print(k)"
   ]
  },
  {
   "cell_type": "code",
   "execution_count": null,
   "id": "65e1149a",
   "metadata": {},
   "outputs": [],
   "source": [
    "#Write a Python program to unzip a list of tuples into individual lists.\n",
    "(l1,l2,l3)=((13,32),(2,23),(1,2,3))\n",
    "print(list(l1))"
   ]
  },
  {
   "cell_type": "code",
   "execution_count": null,
   "id": "7bcf5916",
   "metadata": {},
   "outputs": [],
   "source": [
    "# Write a Python program to check whether an element exists within a tuple.\n",
    "t1=tuple(input())\n",
    "list(t1)\n",
    "list_sorted=[]\n",
    "for i in t1:\n",
    "    a=int(i)\n",
    "    if a not in list_sorted:\n",
    "          list_sorted.append(a)\n",
    "    else :\n",
    "        pass\n",
    "print(tuple(list_sorted))"
   ]
  },
  {
   "cell_type": "code",
   "execution_count": null,
   "id": "141d3217",
   "metadata": {},
   "outputs": [],
   "source": [
    "# Write a Python program to check whether an element exists within a tuple.\n",
    "t1=tuple(input())\n",
    "i=input()\n",
    "if i in t1:\n",
    "    print(\"yes!this element exist\")\n",
    "else:\n",
    "    print(\"no! this element does not exist\")"
   ]
  },
  {
   "cell_type": "code",
   "execution_count": null,
   "id": "8e6b8ef9",
   "metadata": {},
   "outputs": [],
   "source": [
    "#Write a Python program to convert a list of tuples into a dictionary.\n",
    "l1=[('a',\"apple\"),('b',\"ball\"),('c',\"cat\")]\n",
    "l2=dict(l1)\n",
    "print(l2)\n"
   ]
  },
  {
   "cell_type": "code",
   "execution_count": null,
   "id": "f7eba7cc",
   "metadata": {},
   "outputs": [],
   "source": [
    "#How will you create a dictionary using tuples in python?\n",
    "--> we can create dictionary using tuple with the length of tuples 2,that \n",
    "    will spilt first  one as key and second one as value."
   ]
  },
  {
   "cell_type": "code",
   "execution_count": null,
   "id": "1f08a45a",
   "metadata": {},
   "outputs": [],
   "source": [
    "#Write a Python script to sort (ascending and descending) a dictionary by value.\n",
    "dict={'a':12,'b':23,'c':45,'d':11}"
   ]
  },
  {
   "cell_type": "code",
   "execution_count": null,
   "id": "f180be39",
   "metadata": {},
   "outputs": [],
   "source": [
    "# Write a Python script to concatenate following dictionaries to create a new one.\n",
    "dict1={'a':12,'b':23,'c':45,'d':11}\n",
    "dict2={'z':32,'o':13,'q':85,'r':41}\n",
    "print(dict1,dict2)\n"
   ]
  },
  {
   "cell_type": "code",
   "execution_count": null,
   "id": "128c1c19",
   "metadata": {},
   "outputs": [],
   "source": [
    "# Write a Python script to check if a given key already exists in a dictionary.\n",
    "dict2={'z':32,'o':13,'q':85,'r':41}\n",
    "j=input()\n",
    "if j in dict2:\n",
    "        print(\"yes this key exist in following dictonary\")\n",
    "else:\n",
    "        print(\"no this key does not exist in following dictonary\")"
   ]
  },
  {
   "cell_type": "code",
   "execution_count": null,
   "id": "2d471f3f",
   "metadata": {},
   "outputs": [],
   "source": [
    "# How Do You Traverse Through A Dictionary Object In Python?\n",
    "\n",
    "-->traversing Through .items() or .keys() or .values() in a dictionary object."
   ]
  },
  {
   "cell_type": "code",
   "execution_count": null,
   "id": "f000fe1d",
   "metadata": {},
   "outputs": [],
   "source": [
    "# How Do You Check The Presence Of A Key In A Dictionary?\n",
    "--> If given key exists in the dictionary, then it returns the value \n",
    "    associated with this key,\n"
   ]
  },
  {
   "cell_type": "code",
   "execution_count": null,
   "id": "2828c265",
   "metadata": {},
   "outputs": [],
   "source": [
    "# Write a Python script to print a dictionary where the keys are numbers between 1 and 15.\n",
    "dict2={1:'apple',2:'watermelon',3:'melonbread'}\n",
    "print(dict2)\n"
   ]
  },
  {
   "cell_type": "code",
   "execution_count": null,
   "id": "ab77098b",
   "metadata": {},
   "outputs": [],
   "source": [
    "#Write a Python program to check multiple keys exists in a dictionary\n",
    "dictio={'z':32,'r':13,'r':85,'r':41,'z':'zain'}\n",
    "key=input(\"enter the key you want to check:\")\n",
    "if key in dictio:\n",
    "    print(\"yes\")\n",
    "else:\n",
    "    print(\"no\")\n"
   ]
  },
  {
   "cell_type": "code",
   "execution_count": null,
   "id": "0203b0b2",
   "metadata": {},
   "outputs": [],
   "source": [
    "# Write a Python script to merge two Python dictionaries.\n",
    "def merge_dictonaries(first,second):\n",
    "    result={**dictp,**dict0}\n",
    "    return result\n",
    "dictp={'z':32,'r':41,'z':'zain'}\n",
    "dict0={1:32,2:13,3:85,4:41,5:'zain'}\n",
    "merge_dictonaries(dictp,dict0)\n"
   ]
  },
  {
   "cell_type": "code",
   "execution_count": null,
   "id": "2208585a",
   "metadata": {},
   "outputs": [],
   "source": [
    "# Write a Python program to map two lists into a dictionary\n",
    "dict1=[1,2,3,5]\n",
    "dict2=[2,3,5,2]\n",
    "a=dict(zip(dict1,dict2))\n",
    "print(a)"
   ]
  },
  {
   "cell_type": "code",
   "execution_count": 15,
   "id": "474bb66b",
   "metadata": {},
   "outputs": [
    {
     "name": "stdout",
     "output_type": "stream",
     "text": [
      "{'a': 300, 'b': 300, 'c': 200, 'd': 100}\n"
     ]
    }
   ],
   "source": [
    "# Write a Python program to combine two dictionary adding values for common keys.\n",
    "dict1={'a':100,'b':200,'c':200,'d':100}\n",
    "dict2={'a':200,'b':100}\n",
    "for i in dict1:\n",
    "    for h in dict2:\n",
    "        if i==h:\n",
    "            b=dict1.get(i)\n",
    "            d=dict2.get(h)\n",
    "            c=b+d\n",
    "            dict1.update([(i,c)])\n",
    "print(dict1)"
   ]
  },
  {
   "cell_type": "code",
   "execution_count": null,
   "id": "0db3e5e6",
   "metadata": {},
   "outputs": [],
   "source": [
    "# Write a Python program to print all unique values in a dictionary.\n",
    "di={1:'apple',2:'apple',3:'melonbread'}\n",
    "dd=di.values()\n",
    "unique_list=[]\n",
    "for i in dd:\n",
    "    if i not in unique_list:\n",
    "        unique_list.append(i)\n",
    "print(\"unique values of dictonary\",unique_list)"
   ]
  },
  {
   "cell_type": "code",
   "execution_count": null,
   "id": "d4adebc5",
   "metadata": {},
   "outputs": [],
   "source": [
    "# Why Do You Use the Zip () Method in Python?\n",
    "-->It is used to map the similar index of multiple containers so that they\n",
    "   can be used just using a single entity.\n"
   ]
  },
  {
   "cell_type": "code",
   "execution_count": 14,
   "id": "70f750c1",
   "metadata": {},
   "outputs": [
    {
     "name": "stdout",
     "output_type": "stream",
     "text": [
      "[['a', 'b'], ['c', 'd']]\n",
      "ac\n",
      "ad\n",
      "bc\n",
      "bd\n"
     ]
    }
   ],
   "source": [
    "# Write a Python program to create and display all combinations of letters,\n",
    "# selecting each letter from a different key in a dictionary.\n",
    "# o Sample data: {'1': ['a','b'], '2': ['c','d']}\n",
    "# o Expected Output:  ac ad bc bd\n",
    "data= {'1': ['a','b'], '2': ['c','d']}\n",
    "a=list(data.values())\n",
    "print(a)\n",
    "for i in a[0]:\n",
    "    for j in a[1]:\n",
    "        print(i,j,sep='')\n"
   ]
  },
  {
   "cell_type": "code",
   "execution_count": null,
   "id": "00a26998",
   "metadata": {},
   "outputs": [],
   "source": [
    "# Write a Python program to find the highest 3 values in a dictionary\n",
    "dicto={'a':100,'b':200,'c':150,'d':32,'e':25}\n",
    "a=dicto.values()\n",
    "b=sorted(a)\n",
    "for i in a:\n",
    "    if i == b[-1] or i == b[-2] or i == b[-3]:\n",
    "        print(\"highest values\",i)"
   ]
  },
  {
   "cell_type": "code",
   "execution_count": 26,
   "id": "0f4a5cb6",
   "metadata": {},
   "outputs": [
    {
     "name": "stdout",
     "output_type": "stream",
     "text": [
      "{'item1': 1150, 'item': 300}\n"
     ]
    }
   ],
   "source": [
    "#Write a Python program to combine values in python list of dictionaries. \n",
    "#Sample data: [{'item': 'item1', 'amount': 400}, {'item': 'item2', 'amount': 300},\n",
    " #             {'item': 'item1', 'amount': 750}]\n",
    "# Expected Output: Counter ({'item1': 1150, 'item2': 300}\n",
    "a=[{'item':'item1','amount':400},{'item':'item2','amount':300},{'item':'item1','amount':400},{'item':'item2','amount':300}] \n",
    "b=list(a[0].values())\n",
    "c=list(a[1].values())\n",
    "d=list(a[2].values())\n",
    "k=b[1]+d[1]  \n",
    "k={'item1': 1150,'item':300} \n",
    "print(k)"
   ]
  },
  {
   "cell_type": "code",
   "execution_count": 11,
   "id": "ad7fc0f8",
   "metadata": {},
   "outputs": [
    {
     "name": "stdout",
     "output_type": "stream",
     "text": [
      "{'w': 1, '3': 1, 'r': 2, 'e': 2, 's': 1, 'o': 1, 'u': 1, 'c': 1}\n"
     ]
    }
   ],
   "source": [
    "# Write a Python program to create a dictionary from a string.\n",
    "# Note: Track the count of the letters from the string. Sample string:'w3resource'\n",
    "#Expected output: {'3': 1,’s’: 1, 'r': 2, 'u': 1, 'w': 1, 'c': 1, 'e': 2, 'o': 1}\n",
    "str1='w3resource'\n",
    "unique_frequency=[]\n",
    "for i in str1:\n",
    "    a=str1.count(i)\n",
    "    unique_frequency+=[(i,a)]\n",
    "print(dict(unique_frequency))\n"
   ]
  },
  {
   "cell_type": "code",
   "execution_count": null,
   "id": "6534c38c",
   "metadata": {},
   "outputs": [],
   "source": [
    "# Write a Python function to calculate the factorial of a number (a non\u0002negative integer)\n",
    "a=(1,3,6,8,9,3)\n",
    "fact=1\n",
    "for i in a:\n",
    "    fact=fact*i\n",
    "print(fact)"
   ]
  },
  {
   "cell_type": "code",
   "execution_count": null,
   "id": "9a6a061c",
   "metadata": {},
   "outputs": [],
   "source": [
    "# Write a Python function to check whether a number is in a given range.\n",
    "a=[]\n",
    "i=int(input())\n",
    "for i in range(9):\n",
    "    a.append(i)\n",
    "print(a)\n",
    "e=int(input(\"enter the number you want to check:\"))\n",
    "if i in a:\n",
    "    print(\"yes\")"
   ]
  },
  {
   "cell_type": "code",
   "execution_count": null,
   "id": "887cd82b",
   "metadata": {},
   "outputs": [],
   "source": [
    "# Write a Python function to check whether a number is perfect or not.\n",
    "def perfect_number(n):\n",
    "    sum = 0\n",
    "    for i in range(1, n):\n",
    "        if n % i == 0:\n",
    "            sum += i\n",
    "    return sum == n\n",
    "print(perfect_number(6))\n"
   ]
  },
  {
   "cell_type": "code",
   "execution_count": null,
   "id": "689e97dc",
   "metadata": {},
   "outputs": [],
   "source": [
    "# Write a Python function that checks whether a passed string is palindrome or not.\n",
    "g1=input()\n",
    "para=g1\n",
    "g3=g1[::-1]\n",
    "if para == g3:\n",
    "    print(\"this is palidrome\")\n",
    "else:\n",
    "    print(\"this is not a palidrome\")"
   ]
  },
  {
   "cell_type": "code",
   "execution_count": null,
   "id": "8f24616d",
   "metadata": {},
   "outputs": [],
   "source": [
    "# How do you perform pattern matching in Python? Explain.\n",
    "--> by loop,and recursion"
   ]
  },
  {
   "cell_type": "code",
   "execution_count": null,
   "id": "72da2c4c",
   "metadata": {},
   "outputs": [],
   "source": [
    "# What is lambda function in python? What we call a function which is \n",
    "# incomplete version of a function?\n",
    "--> lambda is a type of function.it is also known as anonymos and \n",
    "    one linear function.it is called through it variable."
   ]
  },
  {
   "cell_type": "code",
   "execution_count": null,
   "id": "e6273c9f",
   "metadata": {},
   "outputs": [],
   "source": [
    "# How Many Basic Types Of Functions Are Available In Python?\n",
    "--> there are 3 types of function in python :\n",
    "    1.user defined function\n",
    "    2.in-built function\n",
    "    3.lambda functions"
   ]
  },
  {
   "cell_type": "code",
   "execution_count": null,
   "id": "0194eb5a",
   "metadata": {},
   "outputs": [],
   "source": [
    "# How can you pick a random item from a list or tuple?\n",
    "--> we can pic a random item from a list or tuple through pop method after\n",
    "typecasting it in set ."
   ]
  },
  {
   "cell_type": "code",
   "execution_count": null,
   "id": "588c6483",
   "metadata": {},
   "outputs": [],
   "source": [
    "# How can you pick a random item from a range?\n",
    "--> Give the lower limit and higher limit values of the range and store \n",
    "them in two separate variables.\n"
   ]
  },
  {
   "cell_type": "code",
   "execution_count": null,
   "id": "d2cc501d",
   "metadata": {},
   "outputs": [],
   "source": [
    "# How can you get a random number in python?\n",
    "--> random.randint () function\n",
    "random.randrange () function\n",
    "random.sample () function\n",
    "random.uniform () function\n",
    "numpy.random.randint () function\n"
   ]
  },
  {
   "cell_type": "code",
   "execution_count": null,
   "id": "eb552d3b",
   "metadata": {},
   "outputs": [],
   "source": [
    "# How will you set the starting value in generating random numbers?\n",
    "--> By default the random number generator uses the current system time. \n",
    "Use the seed () method to customize the start number of the random number\n",
    "generator. Note: If you use the same seed value twice you will get the \n",
    "    same random number twice.\n"
   ]
  },
  {
   "cell_type": "code",
   "execution_count": null,
   "id": "ce061ae5",
   "metadata": {},
   "outputs": [],
   "source": [
    "# How will you randomizes the items of a list in place?\n",
    "-->  Insert a new column Insert a column next to the column you wish\n",
    "    to randomize\n"
   ]
  },
  {
   "cell_type": "code",
   "execution_count": null,
   "id": "87f629b7",
   "metadata": {},
   "outputs": [],
   "source": [
    "# Write a Python program to read a random line from a file.\n",
    "import random\n",
    "def random_line(fname):\n",
    "    lines = open(fname).read().splitlines()\n",
    "    return random.choice(lines)\n",
    "print(random_line('test.txt'))"
   ]
  },
  {
   "cell_type": "code",
   "execution_count": null,
   "id": "f0d4f4a0",
   "metadata": {},
   "outputs": [],
   "source": [
    "# Write a Python program to convert degree to radian\n",
    "def degree_radian(degree):\n",
    "    radian=180/3.14*degree\n",
    "    return radian\n",
    "print(\"radian\",degree_radian(12))"
   ]
  },
  {
   "cell_type": "code",
   "execution_count": null,
   "id": "e659d79f",
   "metadata": {},
   "outputs": [],
   "source": [
    "# Write a Python program to calculate the area of a trapezoid\n",
    "def area_trapezoid(p,q,h):\n",
    "    area = (1/2)* (p + q) * h\n",
    "    return area\n",
    "print(\"area of trapazoid\",area_trapezoid(1,1,2))"
   ]
  },
  {
   "cell_type": "code",
   "execution_count": 2,
   "id": "d6d8802c",
   "metadata": {},
   "outputs": [
    {
     "name": "stdout",
     "output_type": "stream",
     "text": [
      "area of parallelogram 675\n"
     ]
    }
   ],
   "source": [
    "# Write a Python program to calculate the area of a parallelogram\n",
    "def area_parallelogram(length,breath):\n",
    "    area=length * breath\n",
    "    return area\n",
    "print(\"area of parallelogram\",area_parallelogram(15,45))"
   ]
  },
  {
   "cell_type": "code",
   "execution_count": 1,
   "id": "730d86a1",
   "metadata": {},
   "outputs": [
    {
     "name": "stdout",
     "output_type": "stream",
     "text": [
      "volume of cylinder and area of clyinder (4710.0, 35325.0)\n"
     ]
    }
   ],
   "source": [
    "#Write a Python program to calculate surface volume and area of a cylinder\n",
    "def volume_cylinder_area(r,h):\n",
    "    area=2*3.14 * r * h \n",
    "    volume=3.14*r*r*h\n",
    "    return area,volume\n",
    "print(\"volume of cylinder and area of clyinder\",volume_cylinder_area(15,50))"
   ]
  },
  {
   "cell_type": "code",
   "execution_count": null,
   "id": "44556241",
   "metadata": {},
   "outputs": [],
   "source": [
    "# Write a Python program to returns sum of all divisors of a number.\n",
    "def divisors(numb):\n",
    "    add=0\n",
    "    for i in range(1,numb+1):\n",
    "            if numb%i==0:              \n",
    "                add+=i\n",
    "    return add\n",
    "j=int(input(print(\"enter the value:\")))\n",
    "print(\"sum of all divisors\",divisors(j))"
   ]
  },
  {
   "cell_type": "code",
   "execution_count": null,
   "id": "78974941",
   "metadata": {},
   "outputs": [],
   "source": [
    "# Write a Python program to find the maximum and minimum numbers \n",
    "# from the specified decimal numbers.\n",
    "def mini_maxi(a):\n",
    "    minimum=min(a)\n",
    "    maximum=max(a)\n",
    "    return maximum,minimum\n",
    "print(\"minimum and maximun\",mini_maxi(a=[1,3,5,2,7,3]))"
   ]
  }
 ],
 "metadata": {
  "kernelspec": {
   "display_name": "Python 3 (ipykernel)",
   "language": "python",
   "name": "python3"
  },
  "language_info": {
   "codemirror_mode": {
    "name": "ipython",
    "version": 3
   },
   "file_extension": ".py",
   "mimetype": "text/x-python",
   "name": "python",
   "nbconvert_exporter": "python",
   "pygments_lexer": "ipython3",
   "version": "3.9.13"
  }
 },
 "nbformat": 4,
 "nbformat_minor": 5
}
